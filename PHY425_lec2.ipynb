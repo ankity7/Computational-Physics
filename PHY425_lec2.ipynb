{
  "nbformat": 4,
  "nbformat_minor": 0,
  "metadata": {
    "colab": {
      "name": "PHY425_lec2.ipynb",
      "provenance": [],
      "collapsed_sections": [],
      "authorship_tag": "ABX9TyNjlv0GCXbxujavMTslrS33",
      "include_colab_link": true
    },
    "kernelspec": {
      "name": "python3",
      "display_name": "Python 3"
    },
    "language_info": {
      "name": "python"
    }
  },
  "cells": [
    {
      "cell_type": "markdown",
      "metadata": {
        "id": "view-in-github",
        "colab_type": "text"
      },
      "source": [
        "<a href=\"https://colab.research.google.com/github/ankity7/Computational-Physics/blob/main/PHY425_lec2.ipynb\" target=\"_parent\"><img src=\"https://colab.research.google.com/assets/colab-badge.svg\" alt=\"Open In Colab\"/></a>"
      ]
    },
    {
      "cell_type": "code",
      "metadata": {
        "id": "HW6eH8BPYGNo"
      },
      "source": [
        ""
      ],
      "execution_count": null,
      "outputs": []
    },
    {
      "cell_type": "markdown",
      "metadata": {
        "id": "2qIxcdqXYNQw"
      },
      "source": [
        "##Runge-Kutta Methods"
      ]
    },
    {
      "cell_type": "markdown",
      "metadata": {
        "id": "GdYh5Dvl2wJG"
      },
      "source": [
        "###Second-Order Runge-Kutta Method"
      ]
    },
    {
      "cell_type": "code",
      "metadata": {
        "id": "jH2xCpdjHIrv"
      },
      "source": [
        ""
      ],
      "execution_count": null,
      "outputs": []
    },
    {
      "cell_type": "code",
      "metadata": {
        "id": "-2UTRGpSYQ9Z"
      },
      "source": [
        "import numpy as np\n",
        "import matplotlib.pyplot as plt\n",
        "import math\n",
        "def f(t,x):\n",
        "  fun=-np.sin(t+x)\n",
        "  return fun\n",
        "def F1(h,ti,xi,f):\n",
        "  v=f(ti,xi)\n",
        "  return h*v\n",
        "def F2(h,t,x,f,F1):\n",
        "  d=f(t,x)\n",
        "  c=F1(h,t,x,d)\n",
        "  f1=f(t+h,x+c)\n",
        "  return h*f1"
      ],
      "execution_count": null,
      "outputs": []
    },
    {
      "cell_type": "code",
      "metadata": {
        "id": "CFFvG_dmDzg0"
      },
      "source": [
        "def rk_2(x_0,a,b,h,f):\n",
        "  M=int((b-a)/h)\n",
        "  x=np.zeros(M+1)\n",
        "  t=np.linspace(a,b,M+1)\n",
        "  x[0]=x_0\n",
        "  for i in range(1,M+1):\n",
        "    f1=h*f(t[i-1],x[i-1])\n",
        "    f2=h*f(t[i-1]+h,x[i-1]+f1)\n",
        "    x[i]=x[i-1]+(f1+f2)/2\n",
        "  return t,x"
      ],
      "execution_count": null,
      "outputs": []
    },
    {
      "cell_type": "code",
      "metadata": {
        "colab": {
          "base_uri": "https://localhost:8080/"
        },
        "id": "DyGy_z1k6nF4",
        "outputId": "b1f35d4d-dfa3-49be-8249-e281916fe496"
      },
      "source": [
        "x_0=-(math.pi)/2\n",
        "a=0\n",
        "b=2\n",
        "h=0.2\n",
        "M=int((b-a)/h)\n",
        "print(M)\n",
        "rk_2(x_0,a,b,h,f)"
      ],
      "execution_count": null,
      "outputs": [
        {
          "output_type": "stream",
          "name": "stdout",
          "text": [
            "10\n"
          ]
        },
        {
          "output_type": "execute_result",
          "data": {
            "text/plain": [
              "(array([0. , 0.2, 0.4, 0.6, 0.8, 1. , 1.2, 1.4, 1.6, 1.8, 2. ]),\n",
              " array([-1.57079633, -1.01026583, -0.71344127, -0.6567322 , -0.72805849,\n",
              "        -0.86261005, -1.02883438, -1.21124306, -1.40203304, -1.59719733,\n",
              "        -1.79465446]))"
            ]
          },
          "metadata": {},
          "execution_count": 7
        }
      ]
    },
    {
      "cell_type": "code",
      "metadata": {
        "id": "o1JnzOe87O7P"
      },
      "source": [
        "def rk_4(x_0,a,b,h,f):\n",
        "  M=int((b-a)/h)\n",
        "  x=np.zeros(M+1)\n",
        "  t=np.linspace(a,b,M+1)\n",
        "  x[0]=x_0\n",
        "  for i in range(1,M+1):\n",
        "    f1=h*f(t[i-1],x[i-1])\n",
        "    f2=h*f(t[i-1]+h/2,x[i-1]+f1/2)\n",
        "    f3=h*f(t[i-1]+h/2,x[i-1]+f2/2)\n",
        "    f4=h*f(t[i-1]+h,x[i-1]+f3)\n",
        "    x[i]=x[i-1]+(f1+2*f2+2*f3+f4)/6\n",
        "  return t,x\n",
        "\n"
      ],
      "execution_count": null,
      "outputs": []
    },
    {
      "cell_type": "code",
      "metadata": {
        "id": "9BNsY2xb7hrP"
      },
      "source": [
        "import numpy as np\n",
        "import matplotlib.pyplot as plt\n",
        "import math\n",
        "def f(t,x):\n",
        "  fun=(t*x-x**2)*(t**(-2))\n",
        "  return fun"
      ],
      "execution_count": null,
      "outputs": []
    },
    {
      "cell_type": "code",
      "metadata": {
        "id": "deCi5vwPalZj"
      },
      "source": [
        "def f1(t,x):\n",
        "  fun=np.sin(x) \n",
        "  return fun"
      ],
      "execution_count": null,
      "outputs": []
    },
    {
      "cell_type": "code",
      "metadata": {
        "id": "0ztb9Rv7tMgm"
      },
      "source": [
        "def real_sol(t):\n",
        "  f=t*(np.log(t)+1/2)**(-1)\n",
        "  return f"
      ],
      "execution_count": null,
      "outputs": []
    },
    {
      "cell_type": "code",
      "metadata": {
        "colab": {
          "base_uri": "https://localhost:8080/"
        },
        "id": "8TNeJfcbtq-N",
        "outputId": "5bb097f9-2918-4123-8e36-a152f12189ba"
      },
      "source": [
        "x_0=2.0\n",
        "a=1\n",
        "b=3\n",
        "h=0.2\n",
        "M=int((b-a)/h)\n",
        "print(M)"
      ],
      "execution_count": null,
      "outputs": [
        {
          "output_type": "stream",
          "name": "stdout",
          "text": [
            "10\n"
          ]
        }
      ]
    },
    {
      "cell_type": "code",
      "metadata": {
        "colab": {
          "base_uri": "https://localhost:8080/",
          "height": 279
        },
        "id": "Rwwh1JkQteSz",
        "outputId": "e1d00062-5e1c-494d-c4c6-cf5492fb748c"
      },
      "source": [
        "H=[0.2,0.1,1/128]\n",
        "ax = plt.subplot()\n",
        "T=[]\n",
        "X=[]\n",
        "for h in H:\n",
        "  M=int((b-a)/h)\n",
        "  (t,x)=rk_4(x_0,a,b,h,f)\n",
        "  plt.plot(t,x,label=f\"h={h}\")\n",
        "  T.append(t)\n",
        "  X.append(x)\n",
        "\n",
        "plt.plot(t,(real_sol(t)),label=\"Exact\")\n",
        "plt.xlabel(\"t\")\n",
        "plt.ylabel(r\"$x(t)$\")\n",
        "leg = plt.legend(loc='best', ncol=1, shadow=False, fancybox=False)\n",
        "#leg.get_frame().set_alpha(0.8)\n",
        "plt.show()"
      ],
      "execution_count": null,
      "outputs": [
        {
          "output_type": "display_data",
          "data": {
            "image/png": "[encoded data removed]",
            "text/plain": [
              "<Figure size 432x288 with 1 Axes>"
            ]
          },
          "metadata": {
            "needs_background": "light"
          }
        }
      ]
    },
    {
      "cell_type": "code",
      "metadata": {
        "colab": {
          "base_uri": "https://localhost:8080/",
          "height": 279
        },
        "id": "vDU54JKXt_qV",
        "outputId": "a333362a-b220-497f-de4b-3ee9ee71780d"
      },
      "source": [
        "plt.plot(T[0], X[0], 'bs', T[1], X[1], 'ro', T[2], X[2], 'g-.')\n",
        "plt.plot(t,(real_sol(t)),label=\"Exact\")\n",
        "plt.xlabel(\"t\")\n",
        "plt.ylabel(r\"$x(t)$\")\n",
        "#leg = plt.legend(loc='best', ncol=1, shadow=False, fancybox=False)\n",
        "plt.show()"
      ],
      "execution_count": null,
      "outputs": [
        {
          "output_type": "display_data",
          "data": {
            "image/png": "[encoded data removed]",
            "text/plain": [
              "<Figure size 432x288 with 1 Axes>"
            ]
          },
          "metadata": {
            "needs_background": "light"
          }
        }
      ]
    },
    {
      "cell_type": "code",
      "metadata": {
        "id": "z1KfXxpUu_QH"
      },
      "source": [
        ""
      ],
      "execution_count": null,
      "outputs": []
    },
    {
      "cell_type": "markdown",
      "metadata": {
        "id": "qOiFTxeqwv7f"
      },
      "source": [
        "##Adaptive Runge-Kutta-Fehlberg Method\n",
        "Numerical Analysis(Mathematics of Scientific Computing) by David Kincaid and Ward Cheney,3rd ed"
      ]
    },
    {
      "cell_type": "code",
      "metadata": {
        "id": "5U1QH8pNw5q7"
      },
      "source": [
        "import numpy as np\n",
        "def rk_45(x_0,lower,upper,tol,f):\n",
        "  a=[16/135,0,6656/12825,28561/56430,-9/50,2/55]\n",
        "  a_minus_b=[1/360,0,-128/4275,-2197/75240,1/50,2/55]\n",
        "  c=[0,1/4,3/8,12/13,1,1/2]\n",
        "  d=[[0],\n",
        "    [1/4],\n",
        "    [3/32,9/32],\n",
        "    [1932/2197,-7200/2197,7296/2197],\n",
        "    [439/216,-8,3680/513,-845/4104],\n",
        "    [-8/27,2,-3544/2565,1859/4104,-11/40]]\n",
        "  \n",
        "  #intial points and list of points\n",
        "  t=[]\n",
        "  t.append(lower)\n",
        "  x=[]\n",
        "  x.append(x_0)\n",
        "  h=0.1 # initial step size\n",
        "  val=lower\n",
        "  n=0\n",
        "\n",
        "  while val < upper:\n",
        "    F=[]\n",
        "    aF=[]\n",
        "    bF=[]\n",
        "    for i in range(1,7):\n",
        "      t_i=val+h*c[i-1]\n",
        "      F_j=[]\n",
        "      for j in range(1,i):\n",
        "        F_j.append(d[i-1][j-1]*F[j-1])\n",
        "      x_dash=sum(F_j)+x[n]\n",
        "      F.append(h*f(t_i,x_dash))\n",
        "      aF.append(a[i-1]*f(t_i,x_dash)*h)\n",
        "      bF.append((-a_minus_b[i-1]+a[i-1])*f(t_i,x_dash)*h)\n",
        "    \n",
        "    x_t_plus_h=x[n]+sum(aF)  #fifth order approximation\n",
        "    val=val+h \n",
        "    x_dash_t_plus_h=x[n]+sum(bF) # fourth order approximation\n",
        "    e=x_t_plus_h-x_dash_t_plus_h # error\n",
        "    #print(e)\n",
        "    x.append(x_t_plus_h)\n",
        "    t.append(val) # corresponding value of x\n",
        "    '''if abs(e)<tol:\n",
        "      h=2*h\n",
        "    else:\n",
        "      h=h/2'''\n",
        "    #to control the step size\n",
        "    h=0.9*h*(tol/abs(e))**(1/4)\n",
        "    n=n+1\n",
        "  return t , x"
      ],
      "execution_count": null,
      "outputs": []
    },
    {
      "cell_type": "code",
      "metadata": {
        "id": "TlmwtOIR-FFN"
      },
      "source": [
        "import numpy as np\n",
        "import matplotlib.pyplot as plt\n",
        "import math\n",
        "def f(t,x):\n",
        "  fun=(t*x-x**2)*(t**(-2))\n",
        "  return fun\n",
        "def real_sol(t):\n",
        "  f=t*(np.log(t)+1/2)**(-1)\n",
        "  return f"
      ],
      "execution_count": null,
      "outputs": []
    },
    {
      "cell_type": "code",
      "metadata": {
        "id": "KHISuOoo4trI"
      },
      "source": [
        "x_0=2.0\n",
        "a=1\n",
        "b=3"
      ],
      "execution_count": null,
      "outputs": []
    },
    {
      "cell_type": "code",
      "metadata": {
        "colab": {
          "base_uri": "https://localhost:8080/"
        },
        "id": "PtgySjzbPRzp",
        "outputId": "ed11dac4-55ed-4847-c2dc-711ec82b59ed"
      },
      "source": [
        "rk_45(x_0,a,b,tol,f)"
      ],
      "execution_count": null,
      "outputs": [
        {
          "output_type": "execute_result",
          "data": {
            "text/plain": [
              "([1,\n",
              "  1.1,\n",
              "  1.1888189528979947,\n",
              "  1.310783003356677,\n",
              "  1.4505913434500828,\n",
              "  1.6270070468091913,\n",
              "  1.8448203959657108,\n",
              "  2.120929436327292,\n",
              "  2.473426069225094,\n",
              "  2.9300046073432933,\n",
              "  3.5279388453984355],\n",
              " [2.0,\n",
              "  1.84777758714516,\n",
              "  1.7665525272571942,\n",
              "  1.7009368454841416,\n",
              "  1.6635779772575883,\n",
              "  1.648868371534439,\n",
              "  1.65844230911534,\n",
              "  1.6942307424461627,\n",
              "  1.759689266542291,\n",
              "  1.860315965343622,\n",
              "  2.0036981651555004])"
            ]
          },
          "metadata": {},
          "execution_count": 118
        }
      ]
    },
    {
      "cell_type": "code",
      "metadata": {
        "id": "mVob1zF-_XCE",
        "colab": {
          "base_uri": "https://localhost:8080/",
          "height": 232
        },
        "outputId": "7efd42ca-e097-419f-de7a-5f0995fc1d8f"
      },
      "source": [
        "(t,x)=rk_45(x_0,a,b,tol,f1)"
      ],
      "execution_count": null,
      "outputs": [
        {
          "output_type": "error",
          "ename": "NameError",
          "evalue": "ignored",
          "traceback": [
            "\u001b[0;31m---------------------------------------------------------------------------\u001b[0m",
            "\u001b[0;31mNameError\u001b[0m                                 Traceback (most recent call last)",
            "\u001b[0;32m<ipython-input-5-93caff4b38c3>\u001b[0m in \u001b[0;36m<module>\u001b[0;34m()\u001b[0m\n\u001b[0;32m----> 1\u001b[0;31m \u001b[0;34m(\u001b[0m\u001b[0mt\u001b[0m\u001b[0;34m,\u001b[0m\u001b[0mx\u001b[0m\u001b[0;34m)\u001b[0m\u001b[0;34m=\u001b[0m\u001b[0mrk_45\u001b[0m\u001b[0;34m(\u001b[0m\u001b[0mx_0\u001b[0m\u001b[0;34m,\u001b[0m\u001b[0ma\u001b[0m\u001b[0;34m,\u001b[0m\u001b[0mb\u001b[0m\u001b[0;34m,\u001b[0m\u001b[0mtol\u001b[0m\u001b[0;34m,\u001b[0m\u001b[0mf1\u001b[0m\u001b[0;34m)\u001b[0m\u001b[0;34m\u001b[0m\u001b[0;34m\u001b[0m\u001b[0m\n\u001b[0m",
            "\u001b[0;31mNameError\u001b[0m: name 'tol' is not defined"
          ]
        }
      ]
    },
    {
      "cell_type": "code",
      "metadata": {
        "colab": {
          "base_uri": "https://localhost:8080/",
          "height": 218
        },
        "id": "geJmw44A-ODc",
        "outputId": "b921e022-fca2-48a3-b6d1-d46237115c82"
      },
      "source": [
        "Tol=[(0.1)**4,(0.01)**4,(0.001)**4] # tol order of h^4\n",
        "ax = plt.subplot()\n",
        "T=[]\n",
        "X=[]\n",
        "for tol in Tol:\n",
        "  (t,x)=rk_45(x_0,a,b,tol,f)\n",
        "  plt.plot(t,x,label=f\"tol={tol}\")\n",
        "  T.append(t)\n",
        "  X.append(x)\n",
        "\n",
        "# plt.plot(t,(real_sol(t)),label=\"Exact\")\n",
        "plt.xlabel(\"t\")\n",
        "plt.ylabel(r\"$x(t)$\")\n",
        "leg = plt.legend(loc='best', ncol=1, shadow=False, fancybox=False)\n",
        "#leg.get_frame().set_alpha(0.8)\n",
        "plt.show()"
      ],
      "execution_count": null,
      "outputs": [
        {
          "output_type": "display_data",
          "data": {
            "image/png": "[encoded data removed]",
            "text/plain": [
              "<Figure size 432x288 with 1 Axes>"
            ]
          },
          "metadata": {
            "needs_background": "light"
          }
        }
      ]
    },
    {
      "cell_type": "code",
      "metadata": {
        "colab": {
          "base_uri": "https://localhost:8080/",
          "height": 279
        },
        "id": "zcjiTPUv0TGf",
        "outputId": "8299897e-fd66-4240-cd17-c965d16c1d29"
      },
      "source": [
        "plt.plot(T[0], X[0], 'bs', T[1], X[1], 'ro', T[2], X[2], 'g-.')\n",
        "plt.plot(t,(real_sol(t)),label=\"Exact\")\n",
        "plt.xlabel(\"t\")\n",
        "plt.ylabel(r\"$x(t)$\")\n",
        "#leg = plt.legend(loc='best', ncol=1, shadow=False, fancybox=False)\n",
        "plt.show()"
      ],
      "execution_count": null,
      "outputs": [
        {
          "output_type": "display_data",
          "data": {
            "image/png": "[encoded data removed]",
            "text/plain": [
              "<Figure size 432x288 with 1 Axes>"
            ]
          },
          "metadata": {
            "needs_background": "light"
          }
        }
      ]
    },
    {
      "cell_type": "code",
      "metadata": {
        "colab": {
          "base_uri": "https://localhost:8080/",
          "height": 279
        },
        "id": "dPYOGWRz0kGc",
        "outputId": "3e8b6061-b889-4638-900f-3c6ab0035b54"
      },
      "source": [
        "'''plt.plot(T[0], X[0], 'bs', markerfacecolor='none',markersize=9,label=f\"tol={Tol[0]}\")'''\n",
        "plt.plot( T[1], X[1], 'o',markerfacecolor='red', \n",
        "         markersize=8,  label=f\"tol={Tol[1]}\")\n",
        "#plt.plot( T[2], X[2], 'rs',markersize=3,label=f\"tol={Tol[2]}\")\n",
        "plt.plot(t,(real_sol(t)),label=\"Exact\")\n",
        "plt.axis([a-0.1, b+0.1, 1.5,2.5 ])\n",
        "plt.legend()\n",
        "plt.xlabel(\"t\")\n",
        "plt.ylabel(r\"$x(t)$\")\n",
        "plt.show()"
      ],
      "execution_count": null,
      "outputs": [
        {
          "output_type": "display_data",
          "data": {
            "image/png": "[encoded data removed]",
            "text/plain": [
              "<Figure size 432x288 with 1 Axes>"
            ]
          },
          "metadata": {
            "needs_background": "light"
          }
        }
      ]
    },
    {
      "cell_type": "code",
      "metadata": {
        "colab": {
          "base_uri": "https://localhost:8080/",
          "height": 265
        },
        "id": "8ell7LWCXkBV",
        "outputId": "de548701-cc19-4141-f069-812d4efef444"
      },
      "source": [
        "plt.plot(t,x)\n",
        "plt,"
      ],
      "execution_count": null,
      "outputs": [
        {
          "output_type": "display_data",
          "data": {
            "image/png": "[encoded data removed]",
            "text/plain": [
              "<Figure size 432x288 with 1 Axes>"
            ]
          },
          "metadata": {
            "needs_background": "light"
          }
        }
      ]
    },
    {
      "cell_type": "code",
      "metadata": {
        "id": "csk6yBlHKS0s"
      },
      "source": [
        "a=[16/135,0,6656/12825,28561/56430,-9/50,2/55]\n",
        "a_minus_b=[1/360,0,-128/4275,-2197/75240,1/50,2/55]\n",
        "c=[0,1/4,3/8,12/13,1,1/2]\n",
        "d=[[0,0,0,0,0,0],\n",
        "    [1/4,0,0,0,0,0],\n",
        "    [3/32,9/32,0,0,0,0],\n",
        "    [1932/2197,-7200/2197,7296/2197,0,0,0],\n",
        "    [439/216,-8,3680/513,-845/4104,0,0],\n",
        "    [-8/27,2,-3544/2565,1859/4104,-11/40,0]]\n",
        "for i in range(1,7):\n",
        "      print('value of i : ',i)\n",
        "      print()\n",
        "      for j in range(1,i):\n",
        "        print(d[i-1][j-1])\n",
        "      \n"
      ],
      "execution_count": null,
      "outputs": []
    },
    {
      "cell_type": "code",
      "metadata": {
        "id": "XCDY3DsBLQdS"
      },
      "source": [
        "a=[16/135,0,6656/12825,28561/56430,-9/50,2/55]\n",
        "a_minus_b=[1/360,0,-128/4275,-2197/75240,1/50,2/55]\n",
        "c=[0,1/4,3/8,12/13,1,1/2]\n",
        "d=[[0],\n",
        "    [1/4],\n",
        "    [3/32,9/32],\n",
        "    [1932/2197,-7200/2197,7296/2197],\n",
        "    [439/216,-8,3680/513,-845/4104],\n",
        "    [-8/27,2,-3544/2565,1859/4104,-11/40]]\n",
        "for i in range(1,7):\n",
        "      print('value of i : ',i)\n",
        "      print()\n",
        "      for j in range(1,i):\n",
        "        print(d[i-1][j-1])"
      ],
      "execution_count": null,
      "outputs": []
    },
    {
      "cell_type": "code",
      "metadata": {
        "id": "BT_0rYOWMuDy"
      },
      "source": [
        ""
      ],
      "execution_count": null,
      "outputs": []
    }
  ]
}