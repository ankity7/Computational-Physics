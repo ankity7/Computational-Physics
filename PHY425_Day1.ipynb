{
  "nbformat": 4,
  "nbformat_minor": 0,
  "metadata": {
    "colab": {
      "name": "PHY425_Day1.ipynb",
      "provenance": [],
      "collapsed_sections": [],
      "authorship_tag": "ABX9TyM7qupzZ7MrDshv/PxuzIiI",
      "include_colab_link": true
    },
    "kernelspec": {
      "name": "python3",
      "display_name": "Python 3"
    },
    "language_info": {
      "name": "python"
    }
  },
  "cells": [
    {
      "cell_type": "markdown",
      "metadata": {
        "id": "view-in-github",
        "colab_type": "text"
      },
      "source": [
        "<a href=\"https://colab.research.google.com/github/ankity7/Computational-Physics/blob/main/PHY425_Day1.ipynb\" target=\"_parent\"><img src=\"https://colab.research.google.com/assets/colab-badge.svg\" alt=\"Open In Colab\"/></a>"
      ]
    },
    {
      "cell_type": "code",
      "metadata": {
        "id": "HULv04Jvw3sg"
      },
      "source": [
        ""
      ],
      "execution_count": null,
      "outputs": []
    },
    {
      "cell_type": "markdown",
      "metadata": {
        "id": "-hKIgfg8xNYG"
      },
      "source": [
        "###Initial value Problem(IVP)\n",
        "If $x(t)$ is an unknown function of $t$ with $x_0$ as an initial point on it at $t = t_0$, then IVP is written in the form,\n",
        "$$x\\prime= f(t,x) \\\\\n",
        "x(t_0)=x_0$$ ,where  $x\\prime=\\frac{dx(t)}{dt}$ \\\\\n",
        "But all IVP are not solvable. Some assumptions have to be made about $f$ and we expect the solution to exist only in the neighborhood of\n",
        "$t = t_0$.\n",
        "\n",
        "\n"
      ]
    },
    {
      "cell_type": "markdown",
      "metadata": {
        "id": "2ueq51Iw36nG"
      },
      "source": [
        "### First existence theorem ,IVP\n",
        "### Uniqueness theorem"
      ]
    },
    {
      "cell_type": "markdown",
      "metadata": {
        "id": "zXH0GxL7_h7M"
      },
      "source": [
        "##Example 1, lec 1"
      ]
    },
    {
      "cell_type": "markdown",
      "metadata": {
        "id": "um2yQehnFLwI"
      },
      "source": [
        "# Euler's method\n",
        "$x(t+h)=x(t)+hx\\prime(t)$\n"
      ]
    },
    {
      "cell_type": "code",
      "metadata": {
        "id": "1X6fpVDE35CQ"
      },
      "source": [
        "import numpy as np\n",
        "import math\n",
        "import matplotlib.pyplot as plt\n",
        "\n",
        "def f(t,x):\n",
        "  f=-np.sin(t+x)\n",
        "  return f\n",
        "def real_sol(t):\n",
        "  f=-np.arcsin((1-t**2)/(1+t**2))-t\n",
        "  return f"
      ],
      "execution_count": null,
      "outputs": []
    },
    {
      "cell_type": "code",
      "metadata": {
        "id": "E00_XEpQj9z8"
      },
      "source": [
        "#x_0 is x(0),M is number of steps \n",
        "#a,b is the limits in which function is defined\n",
        "#step size h=(b-a)/M\n",
        "def x_i(x_0,f,M,a,b):\n",
        "  h=(b-a)/M\n",
        "  x=np.zeros(M+1)\n",
        "  t=np.linspace(a,b,M+1)\n",
        "  x[0]=x_0\n",
        "  for i in range(1,M+1):\n",
        "    x[i]=x[i-1]+h*f(t[i-1],x[i-1])\n",
        "  return x,t"
      ],
      "execution_count": null,
      "outputs": []
    },
    {
      "cell_type": "code",
      "metadata": {
        "colab": {
          "base_uri": "https://localhost:8080/"
        },
        "id": "9TiHT3va3Bca",
        "outputId": "a50773dd-c6da-4488-9bc1-2e12b81eeefe"
      },
      "source": [
        "x_0=-(math.pi)/2\n",
        "a=0\n",
        "b=2\n",
        "h=0.2\n",
        "M=int((b-a)/h)\n",
        "(x,t)=x_i(x_0,f,M,a,b)\n",
        "print(len(x),len(t))\n",
        "print(len(real_sol(t)))"
      ],
      "execution_count": null,
      "outputs": [
        {
          "output_type": "stream",
          "name": "stdout",
          "text": [
            "11 11\n",
            "11\n"
          ]
        }
      ]
    },
    {
      "cell_type": "code",
      "metadata": {
        "colab": {
          "base_uri": "https://localhost:8080/",
          "height": 282
        },
        "id": "18xbeIKZ34rz",
        "outputId": "f45f2fc1-baad-49d5-d4cd-0bff0345669b"
      },
      "source": [
        "H=[0.2,0.1,0.01]\n",
        "ax = plt.subplot()\n",
        "for h in H:\n",
        "  M=int((b-a)/h)\n",
        "  (x,t)=x_i(x_0,f,M,a,b)\n",
        "  plt.plot(t,x,label=f\"h={h}\")\n",
        "  \n",
        "\n",
        "plt.plot(t,(real_sol(t)),label=\"Exact\")\n",
        "plt.xlabel(\"t\")\n",
        "plt.ylabel(r\"$x(t)$\")\n",
        "leg = plt.legend(loc='best', ncol=1, shadow=False, fancybox=False)\n",
        "#leg.get_frame().set_alpha(0.8)\n",
        "plt.show()"
      ],
      "execution_count": null,
      "outputs": [
        {
          "output_type": "display_data",
          "data": {
            "image/png": "[encoded data removed]",
            "text/plain": [
              "<Figure size 432x288 with 1 Axes>"
            ]
          },
          "metadata": {
            "needs_background": "light"
          }
        }
      ]
    },
    {
      "cell_type": "markdown",
      "metadata": {
        "id": "LpQXPppREQ13"
      },
      "source": [
        "### Example 2\n",
        "$$x\\prime= cos(t)-sin(x)+t^2 \\\\\n",
        "x(-1)=3$$"
      ]
    },
    {
      "cell_type": "markdown",
      "metadata": {
        "id": "GaqPiqCyFEMU"
      },
      "source": [
        "### Define the function"
      ]
    },
    {
      "cell_type": "code",
      "metadata": {
        "id": "vczC0qzz7iHw"
      },
      "source": [
        "import numpy as np\n",
        "import math\n",
        "import matplotlib.pyplot as plt\n",
        "\n",
        "def f(t,x):\n",
        "  f=np.cos(t)-np.sin(x)+t**2\n",
        "  return f\n"
      ],
      "execution_count": null,
      "outputs": []
    },
    {
      "cell_type": "markdown",
      "metadata": {
        "id": "H24QBn25FryQ"
      },
      "source": [
        "### Take parameters from the question and gererate $t_i$ and $x_i$ using Euler's method"
      ]
    },
    {
      "cell_type": "code",
      "metadata": {
        "id": "hgx5M9gOFCFb"
      },
      "source": [
        "#x_0 is x(0),M is number of steps \n",
        "#a,b is the limits in which function is defined\n",
        "#step size h=(b-a)/M\n",
        "def x_i(x_0,f,M,a,b):\n",
        "  h=(b-a)/M\n",
        "  x=np.zeros(M+1)\n",
        "  t=np.linspace(a,b,M+1)\n",
        "  x[0]=x_0\n",
        "  for i in range(1,M+1):\n",
        "    x[i]=x[i-1]+h*f(t[i-1],x[i-1])\n",
        "  return x,t"
      ],
      "execution_count": null,
      "outputs": []
    },
    {
      "cell_type": "code",
      "metadata": {
        "colab": {
          "base_uri": "https://localhost:8080/"
        },
        "id": "NREwi8UPGFiV",
        "outputId": "4f7dc80c-356a-4f9f-b817-7852f1c1a184"
      },
      "source": [
        "x_0=3\n",
        "a=-1\n",
        "b=1\n",
        "h=0.2\n",
        "M=int((b-a)/h)\n",
        "(x,t)=x_i(x_0,f,M,a,b)\n",
        "print(len(x),len(t))\n",
        "print(len(real_sol(t)))"
      ],
      "execution_count": null,
      "outputs": [
        {
          "output_type": "stream",
          "name": "stdout",
          "text": [
            "11 11\n",
            "11\n"
          ]
        }
      ]
    },
    {
      "cell_type": "markdown",
      "metadata": {
        "id": "tu3d-rW7GhVv"
      },
      "source": [
        "###Plot the solution"
      ]
    },
    {
      "cell_type": "code",
      "metadata": {
        "colab": {
          "base_uri": "https://localhost:8080/",
          "height": 279
        },
        "id": "tp0C7IzfGVKB",
        "outputId": "fe53903f-2715-4961-805b-2e772403a728"
      },
      "source": [
        "H=[0.2,0.1,0.01,0.0001]\n",
        "ax = plt.subplot()\n",
        "for h in H:\n",
        "  M=int((b-a)/h)\n",
        "  (x,t)=x_i(x_0,f,M,a,b)\n",
        "  plt.plot(t,x,label=f\"h={h}\")\n",
        "\n",
        "plt.xlabel(\"t\")\n",
        "plt.ylabel(r\"$x(t)$\")\n",
        "leg = plt.legend(loc='best', ncol=1, shadow=False, fancybox=False)\n",
        "#leg.get_frame().set_alpha(1)\n",
        "plt.show()"
      ],
      "execution_count": null,
      "outputs": [
        {
          "output_type": "display_data",
          "data": {
            "image/png": "[encoded data removed]",
            "text/plain": [
              "<Figure size 432x288 with 1 Axes>"
            ]
          },
          "metadata": {
            "needs_background": "light"
          }
        }
      ]
    },
    {
      "cell_type": "code",
      "metadata": {
        "id": "sm7LbprrGqsx"
      },
      "source": [
        ""
      ],
      "execution_count": null,
      "outputs": []
    },
    {
      "cell_type": "markdown",
      "metadata": {
        "id": "-dkRUn9juDZ9"
      },
      "source": [
        "##Taylor Series Method for the above question"
      ]
    },
    {
      "cell_type": "code",
      "metadata": {
        "colab": {
          "base_uri": "https://localhost:8080/"
        },
        "id": "F_1nEMOruQ9y",
        "outputId": "ee3e376d-a3f5-409f-ac4f-7507c4b9cadf"
      },
      "source": [
        "#define symbolic function and it's higher order derivative\n",
        "import sympy\n",
        "from sympy.utilities.lambdify import lambdify\n",
        "from sympy import *\n",
        " \n",
        "import numpy as np\n",
        "import math\n",
        "import matplotlib.pyplot as plt\n",
        "t, x = symbols('t x')\n",
        "#dn for nth derivative of x wrt t\n",
        "dx=sympy.cos(t)-sympy.sin(x)+t**2\n",
        "x_1=lambdify([t,x],dx)\n",
        "d2x=Derivative(dx,t).doit()+Derivative(dx,x).doit()*dx\n",
        "x_2=lambdify([t,x],d2x)\n",
        "d3x=Derivative(d2x,t).doit()+Derivative(d2x,x).doit()*dx\n",
        "x_3=lambdify([t,x],d3x)\n",
        "d4x=Derivative(d3x,t).doit()+Derivative(d3x,x).doit()*dx\n",
        "x_4=lambdify([t,x],d4x)\n",
        "print(x_1(1,1))"
      ],
      "execution_count": null,
      "outputs": [
        {
          "output_type": "stream",
          "name": "stdout",
          "text": [
            "0.6988313210602433\n"
          ]
        }
      ]
    },
    {
      "cell_type": "code",
      "metadata": {
        "id": "Zke_ohtZvYm6"
      },
      "source": [
        "import sympy\n",
        "import numpy as np\n",
        "from sympy.utilities.lambdify import lambdify\n",
        "from sympy import *\n",
        "def Taylor_x_i(x_0,dx,M,a,b):\n",
        "  \n",
        "  t, x = symbols('t x')\n",
        "  x_1=lambdify([t,x],dx)\n",
        "  d2x=Derivative(dx,t).doit()+Derivative(dx,x).doit()*dx\n",
        "  x_2=lambdify([t,x],d2x)\n",
        "  d3x=Derivative(d2x,t).doit()+Derivative(d2x,x).doit()*dx\n",
        "  x_3=lambdify([t,x],d3x)\n",
        "  d4x=Derivative(d3x,t).doit()+Derivative(d3x,x).doit()*dx\n",
        "  x_4=lambdify([t,x],d4x)\n",
        "  x=np.zeros(M+1)\n",
        "  t=np.linspace(a,b,M+1)\n",
        "  x[0]=x_0\n",
        "  E_4=np.zeros(M+1)\n",
        "  for i in range(1,M+1):\n",
        "    x[i]=x[i-1]+h*x_1(t[i-1],x[i-1])+((h**2)/2)*x_2(t[i-1],x[i-1])+((h**3)/6)*x_3(t[i-1],x[i-1])+((h**4)/24)*x_4(t[i-1],x[i-1])\n",
        "    E_4[i]=((h**4)/120)*(x_4(t[i],x[i])-x_4(t[i-1],x[i-1]))\n",
        "  return (t,x,E_4)"
      ],
      "execution_count": null,
      "outputs": []
    },
    {
      "cell_type": "code",
      "metadata": {
        "id": "RoZqYCWO7WNY"
      },
      "source": [
        ""
      ],
      "execution_count": null,
      "outputs": []
    },
    {
      "cell_type": "code",
      "metadata": {
        "id": "3RG_h4PnD9nI"
      },
      "source": [
        ""
      ],
      "execution_count": null,
      "outputs": []
    },
    {
      "cell_type": "code",
      "metadata": {
        "colab": {
          "base_uri": "https://localhost:8080/",
          "height": 330
        },
        "id": "1rYUcgxGDtWc",
        "outputId": "8ef11187-2c64-48bf-d384-0903ef403e33"
      },
      "source": [
        "x_0=3\n",
        "a=-1\n",
        "b=1\n",
        "H=[0.2,0.1,0.01]\n",
        "ax = plt.subplot()\n",
        "\n",
        "T=[]\n",
        "X=[]\n",
        "for h in H:\n",
        " \n",
        "  M=int((b-a)/h)\n",
        "  print(M)\n",
        "  (t,x,E)=Taylor_x_i(x_0,dx,M,a,b)\n",
        "  plt.plot(t,x,'-',label=f\"h={h}\")\n",
        " \n",
        "  T.append(t)\n",
        "  X.append(x)\n",
        " \n",
        "plt.xlabel(\"t\")\n",
        "plt.ylabel(r\"$x(t)$\")\n",
        "leg = plt.legend(loc='best', ncol=1, shadow=False, fancybox=False)\n",
        "#leg.get_frame().set_alpha(1)\n",
        "plt.show()"
      ],
      "execution_count": null,
      "outputs": [
        {
          "output_type": "stream",
          "name": "stdout",
          "text": [
            "10\n",
            "20\n",
            "200\n"
          ]
        },
        {
          "output_type": "display_data",
          "data": {
            "image/png": "[encoded data removed]",
            "text/plain": [
              "<Figure size 432x288 with 1 Axes>"
            ]
          },
          "metadata": {
            "needs_background": "light"
          }
        }
      ]
    },
    {
      "cell_type": "code",
      "metadata": {
        "id": "GB9DWbVPJNTd",
        "colab": {
          "base_uri": "https://localhost:8080/"
        },
        "outputId": "5a44c6b3-16cb-4674-f34d-a5afdf4496e5"
      },
      "source": [
        "\n",
        "X[0]"
      ],
      "execution_count": null,
      "outputs": [
        {
          "output_type": "execute_result",
          "data": {
            "text/plain": [
              "array([3.        , 3.28688473, 3.59674629, 3.9388549 , 4.31365158,\n",
              "       4.70958088, 5.10568817, 5.48099864, 5.82383095, 6.13443596,\n",
              "       6.42196169])"
            ]
          },
          "metadata": {},
          "execution_count": 5
        }
      ]
    },
    {
      "cell_type": "code",
      "metadata": {
        "colab": {
          "base_uri": "https://localhost:8080/",
          "height": 279
        },
        "id": "p61MS-2gXS4g",
        "outputId": "8c0649cb-9d6a-4c90-c853-b78d631afcd5"
      },
      "source": [
        "plt.plot(T[0], X[0], 'bs', T[1], X[1], 'ro', T[2], X[2], 'g-.')\n",
        "plt.xlabel(\"t\")\n",
        "plt.ylabel(r\"$x(t)$\")\n",
        "#leg = plt.legend(loc='best', ncol=1, shadow=False, fancybox=False)\n",
        "plt.show()"
      ],
      "execution_count": null,
      "outputs": [
        {
          "output_type": "display_data",
          "data": {
            "image/png": "[encoded data removed]",
            "text/plain": [
              "<Figure size 432x288 with 1 Axes>"
            ]
          },
          "metadata": {
            "needs_background": "light"
          }
        }
      ]
    },
    {
      "cell_type": "code",
      "metadata": {
        "colab": {
          "base_uri": "https://localhost:8080/",
          "height": 283
        },
        "id": "F_BiZIyvhTQG",
        "outputId": "2873bdfe-b6b1-4990-f560-9e8375fa493e"
      },
      "source": [
        "\n",
        "plt.plot(T[0], X[0], 'bs', markerfacecolor='none',markersize=9,label=f\"h={H[0]}\")\n",
        "plt.plot( T[1], X[1],  marker='o',markerfacecolor='red', \n",
        "         markersize=8,  label=f\"h={H[1]}\")\n",
        "plt.plot( T[2], X[2], 'g-.',label=f\"h={H[2]}\")\n",
        "plt.axis([-1, 1, 2.5, 7])\n",
        "plt.legend()\n",
        "plt.xlabel(\"t\")\n",
        "plt.ylabel(r\"$x(t)$\")\n",
        "plt.show()"
      ],
      "execution_count": null,
      "outputs": [
        {
          "output_type": "display_data",
          "data": {
            "image/png": "[encoded data removed]",
            "text/plain": [
              "<Figure size 432x288 with 1 Axes>"
            ]
          },
          "metadata": {
            "needs_background": "light"
          }
        }
      ]
    },
    {
      "cell_type": "markdown",
      "metadata": {
        "id": "SNCcv8qsyumi"
      },
      "source": [
        "##Delay Differential Equations"
      ]
    },
    {
      "cell_type": "code",
      "metadata": {
        "id": "eVoOawzQq8g4",
        "colab": {
          "base_uri": "https://localhost:8080/"
        },
        "outputId": "433b9c07-468d-4a22-b103-9999db269aa9"
      },
      "source": [
        "#define symbolic function and it's higher order derivative\n",
        "import sympy\n",
        "from sympy.utilities.lambdify import lambdify\n",
        "from sympy import *\n",
        "import numpy as np\n",
        "import math\n",
        "import matplotlib.pyplot as plt\n",
        "t= symbols('t')\n",
        "#dn for nth derivative of x wrt t\n",
        "x=((t-1)**3)/3+1/3\n",
        "x_=lambdify([t],x)\n",
        "dx=(t-1)**2\n",
        "x_1=lambdify([t],dx)\n",
        "d2x=Derivative(dx,t).doit()\n",
        "x_2=lambdify([t],d2x)\n",
        "d3x=Derivative(d2x,t).doit()\n",
        "x_3=lambdify([t],d3x)\n",
        "a=1\n",
        "print(float(x_(0)))"
      ],
      "execution_count": null,
      "outputs": [
        {
          "output_type": "stream",
          "name": "stdout",
          "text": [
            "-3.3306690738754696e-16\n"
          ]
        }
      ]
    },
    {
      "cell_type": "code",
      "metadata": {
        "id": "6NSkUDM1V4QO"
      },
      "source": [
        "def Taylor_delayed_x_i(x_0,dx,M,a,b):\n",
        "  t= symbols('t')\n",
        "  \n",
        "  x_1=lambdify([t],dx)\n",
        "  d2x=Derivative(dx,t).doit()\n",
        "  x_2=lambdify([t],d2x)\n",
        "  d3x=Derivative(d2x,t).doit()\n",
        "  x_3=lambdify([t],d3x)\n",
        "  X=np.zeros(M+1)\n",
        "  T=np.linspace(a,b,M+1)\n",
        "  E_3=np.zeros(M+1)\n",
        "  X[0]=x_0\n",
        "  for i in range(1,M+1):\n",
        "    X[i]=X[i-1]+h*x_1(T[i-1])+((h**2)/2)*x_2(T[i-1])+((h**3)/6)*x_3(T[i-1])\n",
        "    E_3[i]=((h**3)/24)*(x_3(T[i])-x_3(T[i-1]))\n",
        "  return (T,X,E_3)"
      ],
      "execution_count": null,
      "outputs": []
    },
    {
      "cell_type": "code",
      "metadata": {
        "colab": {
          "base_uri": "https://localhost:8080/",
          "height": 283
        },
        "id": "HnVa6W_ZYT4d",
        "outputId": "558947af-082c-48b4-f07d-431d7d88d632"
      },
      "source": [
        "a=0\n",
        "b=2\n",
        "x_0=x_(0)\n",
        "H=[0.2,0.1,0.01]\n",
        "ax = plt.subplot()\n",
        "\n",
        "T=[]\n",
        "X=[]\n",
        "for h in H:\n",
        " \n",
        "  M=int((b-a)/h)\n",
        "  #print(M)\n",
        "  (t,x,E)=Taylor_delayed_x_i(x_0,dx,M,a,b)\n",
        "  plt.plot(t,x,'-',label=f\"h={h}\")\n",
        " \n",
        "  T.append(t)\n",
        "  X.append(x)\n",
        " \n",
        "plt.xlabel(\"t\")\n",
        "plt.ylabel(r\"$x(t)$\")\n",
        "leg = plt.legend(loc='best', ncol=1, shadow=False, fancybox=False)\n",
        "#leg.get_frame().set_alpha(1)\n",
        "plt.show()\n"
      ],
      "execution_count": null,
      "outputs": [
        {
          "output_type": "display_data",
          "data": {
            "image/png": "[encoded data removed]",
            "text/plain": [
              "<Figure size 432x288 with 1 Axes>"
            ]
          },
          "metadata": {
            "needs_background": "light"
          }
        }
      ]
    },
    {
      "cell_type": "code",
      "metadata": {
        "colab": {
          "base_uri": "https://localhost:8080/",
          "height": 283
        },
        "id": "KMSxa-hAZDAv",
        "outputId": "cc0ac953-1780-44b9-d6d1-0515aaad2ee6"
      },
      "source": [
        "plt.plot(T[0], X[0], 'bs', markerfacecolor='none',markersize=9,label=f\"h={H[0]}\")\n",
        "plt.plot( T[1], X[1],  marker='o',markerfacecolor='red', \n",
        "         markersize=8,  label=f\"h={H[1]}\")\n",
        "plt.plot( T[2], X[2], 'g-.',label=f\"h={H[2]}\")\n",
        "plt.axis([0, 2, 0, 1])\n",
        "plt.legend()\n",
        "plt.xlabel(\"t\")\n",
        "plt.ylabel(r\"$x(t)$\")\n",
        "plt.show()"
      ],
      "execution_count": null,
      "outputs": [
        {
          "output_type": "display_data",
          "data": {
            "image/png": "[encoded data removed]",
            "text/plain": [
              "<Figure size 432x288 with 1 Axes>"
            ]
          },
          "metadata": {
            "needs_background": "light"
          }
        }
      ]
    },
    {
      "cell_type": "markdown",
      "metadata": {
        "id": "17-W3LrLSFUO"
      },
      "source": [
        "##IVP can be used to compute a definite integral."
      ]
    },
    {
      "cell_type": "code",
      "metadata": {
        "colab": {
          "base_uri": "https://localhost:8080/"
        },
        "id": "0T8D22lYvykv",
        "outputId": "337e8abb-789d-4d02-c53c-8f791c541af6"
      },
      "source": [
        "#define symbolic function and it's higher order derivative\n",
        "import sympy\n",
        "from sympy.utilities.lambdify import lambdify\n",
        "from sympy import *\n",
        " \n",
        "import numpy as np\n",
        "import math\n",
        "import matplotlib.pyplot as plt\n",
        "t = symbols('t')\n",
        "#dn for nth derivative of x wrt t\n",
        "dx=sympy.exp(-t**2)\n",
        "x_1=lambdify([t],dx)\n",
        "d2x=Derivative(dx,t).doit()\n",
        "x_2=lambdify([t],d2x)\n",
        "d3x=Derivative(d2x,t).doit()\n",
        "x_3=lambdify([t],d3x)\n",
        "d4x=Derivative(d3x,t).doit()\n",
        "x_4=lambdify([t],d4x)\n",
        "print(x_1(1))"
      ],
      "execution_count": null,
      "outputs": [
        {
          "output_type": "stream",
          "name": "stdout",
          "text": [
            "0.36787944117144233\n"
          ]
        }
      ]
    },
    {
      "cell_type": "code",
      "metadata": {
        "id": "MjXE6TRac6uD"
      },
      "source": [
        "import sympy\n",
        "import numpy as np\n",
        "from sympy.utilities.lambdify import lambdify\n",
        "from sympy import *\n",
        "def Taylor_erf(x_0,dx,M,a,b):\n",
        "  t = symbols('t')\n",
        "  #dn for nth derivative of x wrt t\n",
        "  x_1=lambdify([t],dx)\n",
        "  d2x=Derivative(dx,t).doit()\n",
        "  x_2=lambdify([t],d2x)\n",
        "  d3x=Derivative(d2x,t).doit()\n",
        "  x_3=lambdify([t],d3x)\n",
        "  d4x=Derivative(d3x,t).doit()\n",
        "  x_4=lambdify([t],d4x)\n",
        "  x=np.zeros(M+1)\n",
        "  T=np.linspace(a,b,M+1)\n",
        "  x[0]=x_0\n",
        "  E_4=np.zeros(M+1)\n",
        "  for i in range(1,M+1):\n",
        "    x[i]=x[i-1]+h*x_1(T[i-1])+((h**2)/2)*x_2(T[i-1])+((h**3)/6)*x_3(T[i-1])+((h**4)/24)*x_4(T[i-1])\n",
        "    E_4[i]=((h**4)/120)*(x_4(T[i])-x_4(T[i-1]))\n",
        "  return (T,x,E_4)"
      ],
      "execution_count": null,
      "outputs": []
    },
    {
      "cell_type": "code",
      "metadata": {
        "colab": {
          "base_uri": "https://localhost:8080/",
          "height": 346
        },
        "id": "K_sr3woPbGzZ",
        "outputId": "f741a2a9-a634-4c46-bcc9-777136ab97a8"
      },
      "source": [
        "x_0=0\n",
        "a=0\n",
        "b=2\n",
        "H=[0.2,0.1,0.01]\n",
        "ax = plt.subplot()\n",
        "print(dx,x_0,a,b)\n",
        "T=[]\n",
        "X=[]\n",
        "for h in H:\n",
        " \n",
        "  M=int((b-a)/h)\n",
        "  print(M)\n",
        "  (t,x,E)=Taylor_erf(x_0,dx,M,a,b)\n",
        "  plt.plot(t,x,'-',label=f\"h={h}\")\n",
        "  T.append(t)\n",
        "  X.append(x)\n",
        "#print(x)\n",
        "plt.plot(l,np.array(er))\n",
        "plt.xlabel(\"t\")\n",
        "plt.ylabel(r\"$x(t)$\")\n",
        "leg = plt.legend(loc='best', ncol=1, shadow=False, fancybox=False)\n",
        "#leg.get_frame().set_alpha(1)\n",
        "plt.show()"
      ],
      "execution_count": null,
      "outputs": [
        {
          "output_type": "stream",
          "name": "stdout",
          "text": [
            "exp(-t**2) 0 0 2\n",
            "10\n",
            "20\n",
            "200\n"
          ]
        },
        {
          "output_type": "display_data",
          "data": {
            "image/png": "[encoded data removed]",
            "text/plain": [
              "<Figure size 432x288 with 1 Axes>"
            ]
          },
          "metadata": {
            "needs_background": "light"
          }
        }
      ]
    },
    {
      "cell_type": "code",
      "metadata": {
        "colab": {
          "base_uri": "https://localhost:8080/",
          "height": 282
        },
        "id": "HaNlABPvbhjG",
        "outputId": "bef2980c-7b42-43f9-80c7-2c9ade4987ce"
      },
      "source": [
        "import math\n",
        "l=np.linspace(a,b,100)\n",
        "er=[]\n",
        "for i in l:\n",
        "  er.append((np.sqrt(np.pi)/2)*(math.erf(i)))\n",
        "plt.plot(l,np.array(er))"
      ],
      "execution_count": null,
      "outputs": [
        {
          "output_type": "execute_result",
          "data": {
            "text/plain": [
              "[<matplotlib.lines.Line2D at 0x7fb06ce1e490>]"
            ]
          },
          "metadata": {},
          "execution_count": 25
        },
        {
          "output_type": "display_data",
          "data": {
            "image/png": "[encoded data removed]",
            "text/plain": [
              "<Figure size 432x288 with 1 Axes>"
            ]
          },
          "metadata": {
            "needs_background": "light"
          }
        }
      ]
    },
    {
      "cell_type": "code",
      "metadata": {
        "colab": {
          "base_uri": "https://localhost:8080/"
        },
        "id": "2dDHdIiOeazF",
        "outputId": "90bc387a-d032-41bf-a78f-339f65598330"
      },
      "source": [
        "2/"
      ],
      "execution_count": null,
      "outputs": [
        {
          "data": {
            "text/plain": [
              "0.6366197723675814"
            ]
          },
          "execution_count": null,
          "metadata": {},
          "output_type": "execute_result"
        }
      ]
    },
    {
      "cell_type": "code",
      "metadata": {
        "colab": {
          "base_uri": "https://localhost:8080/"
        },
        "id": "3pYSe9A2gAj8",
        "outputId": "f963f3db-8e64-48bc-97a3-3642bde4eaa9"
      },
      "source": [
        "math.pi"
      ],
      "execution_count": null,
      "outputs": [
        {
          "output_type": "execute_result",
          "data": {
            "text/plain": [
              "3.141592653589793"
            ]
          },
          "metadata": {},
          "execution_count": 12
        }
      ]
    },
    {
      "cell_type": "code",
      "metadata": {
        "id": "_n0YYidTK0VE"
      },
      "source": [
        ""
      ],
      "execution_count": null,
      "outputs": []
    }
  ]
}